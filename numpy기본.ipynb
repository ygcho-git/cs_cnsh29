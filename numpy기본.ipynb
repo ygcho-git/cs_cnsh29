{
  "nbformat": 4,
  "nbformat_minor": 0,
  "metadata": {
    "colab": {
      "provenance": []
    },
    "kernelspec": {
      "name": "python3",
      "display_name": "Python 3"
    },
    "language_info": {
      "name": "python"
    }
  },
  "cells": [
    {
      "cell_type": "markdown",
      "source": [
        "# Numpy 특징\n",
        "- 과학 계산을 위한 라이브러리\n",
        "- 행렬/배열 처리 및 연산"
      ],
      "metadata": {
        "id": "kQPFMZIVCCpd"
      }
    },
    {
      "cell_type": "markdown",
      "source": [
        "## 1. Numpy 배열의 생성"
      ],
      "metadata": {
        "id": "QMqUc7E7CQb7"
      }
    },
    {
      "cell_type": "code",
      "source": [
        "# 파이썬 리스트\n",
        "\n",
        "L1 = [1, 2, 3]\n",
        "L2 = [[1, 2, 3], [4, 5, 6]]\n",
        "\n",
        "print(L1)                  # type을 출력해 보자...\n",
        "print(L2)\n",
        "\n",
        "# L1리스트에서 1번 원소 출력\n",
        "\n",
        "\n",
        "# L2리스트에서 1행 1열 원소 출력\n",
        "\n",
        "\n",
        "# L2에서 0행 출력\n",
        "\n",
        "\n",
        "# L2에서 1행 출력\n",
        "\n",
        "\n",
        "# L2의 행의 개수\n",
        "\n",
        "\n",
        "# L2의 열의 개수\n"
      ],
      "metadata": {
        "id": "lP9qWUpRCWgq"
      },
      "execution_count": null,
      "outputs": []
    },
    {
      "cell_type": "code",
      "source": [
        "# L1, L2 리스트를 numpy 배열로 변환?\n",
        "import numpy as np\n",
        "\n",
        "arr1 = \n",
        "arr2 = \n",
        "\n",
        "print(arr1)\n",
        "print(arr2)"
      ],
      "metadata": {
        "id": "_xpocuYoD8iD"
      },
      "execution_count": null,
      "outputs": []
    },
    {
      "cell_type": "code",
      "execution_count": null,
      "metadata": {
        "id": "TWJ2BkaJB1qw"
      },
      "outputs": [],
      "source": [
        "# numpy 배열(array) 생성\n",
        "import numpy as np      \n",
        "\n",
        "array1 = np.array([10, 20, 30])\n",
        "array2 = np.array([[10, 20, 30], [40, 50, 60]])\n",
        "array3 = np.array([ \n",
        "                    [[10, 20, 30], [40, 50, 60]],\n",
        "                    [[10, 20, 30], [40, 50, 60]],\n",
        "                    [[10, 20, 30], [40, 50, 60]],                   \n",
        "                    [[10, 20, 30], [40, 50, 60]],                                      \n",
        "                  ])\n",
        "\n",
        "\n",
        "print(array1)            # type을 출력해 보자...\n",
        "print(array2)\n",
        "print(array3)"
      ]
    },
    {
      "cell_type": "markdown",
      "source": [
        "## 2. numpy 배열의 차원 확인"
      ],
      "metadata": {
        "id": "TMBq6_jYDP-_"
      }
    },
    {
      "cell_type": "code",
      "source": [
        "print(array1.ndim)     # 차원을 출력\n",
        "print(array2.ndim)     # 차원을 출력\n",
        "print(array3.ndim)     # 차원을 출력\n",
        "\n",
        "print(array1.shape)    # 차원의 구조를 출력, 튜플로 리턴\n",
        "print(array2.shape)    # 차원의 구조를 출력, 튜플로 리턴\n",
        "print(array3.shape)    # 차원의 구조를 출력, 튜플로 리턴\n",
        "\n",
        "print(array1.size)\n",
        "print(array2.size)\n",
        "print(array3.size)\n"
      ],
      "metadata": {
        "id": "OYslOjabB5Pa"
      },
      "execution_count": null,
      "outputs": []
    },
    {
      "cell_type": "code",
      "source": [
        "# array3의 면수 출력\n",
        "\n",
        "\n",
        "# array3의 행수 출력\n",
        "\n",
        "\n",
        "# array3의 열수 출력"
      ],
      "metadata": {
        "id": "uV3zFe1qDWHG"
      },
      "execution_count": null,
      "outputs": []
    },
    {
      "cell_type": "markdown",
      "source": [
        "## 3. 차원의 변경(shape 변경)\n",
        "reshape"
      ],
      "metadata": {
        "id": "uQCYLVtsJ0CE"
      }
    },
    {
      "cell_type": "code",
      "source": [
        "array = np.array([1, 2, 3, 4, 5, 6, 7, 8, 9, 10, 11, 12])\n",
        "\n",
        "a1 = array.reshape(2, 6)\n",
        "a2 = array.reshape(3, 4)\n",
        "\n",
        "print(a1)\n",
        "print(a2)"
      ],
      "metadata": {
        "id": "xITSr3T9JxVC"
      },
      "execution_count": null,
      "outputs": []
    },
    {
      "cell_type": "code",
      "source": [
        "a3 =                 # array를 4행 3열로\n",
        "a4 =                 # array를 ?행 2열짜리로...\n",
        "\n",
        "print(a3)\n",
        "print(a4)"
      ],
      "metadata": {
        "id": "lrDWbOdfN2hO"
      },
      "execution_count": null,
      "outputs": []
    },
    {
      "cell_type": "code",
      "source": [
        "a5 = array.reshape(5, 5)                # 왜 오류일까?\n",
        "\n",
        "print(a5)"
      ],
      "metadata": {
        "id": "0kjJ1Y6sOpfV"
      },
      "execution_count": null,
      "outputs": []
    },
    {
      "cell_type": "code",
      "source": [
        "# 다차원 배열을 1차원 배열로\n",
        "\n",
        "array = np.array([ \n",
        "                    [[10, 20, 30], [40, 50, 60]],\n",
        "                    [[10, 20, 30], [40, 50, 60]],\n",
        "                    [[10, 20, 30], [40, 50, 60]],                   \n",
        "                    [[10, 20, 30], [40, 50, 60]],                                      \n",
        "                  ])\n",
        "\n",
        "arr = array.flatten()\n",
        "\n",
        "print(arr)"
      ],
      "metadata": {
        "id": "urDASBquOwE0"
      },
      "execution_count": null,
      "outputs": []
    },
    {
      "cell_type": "markdown",
      "source": [
        "## 4. 슬라이싱"
      ],
      "metadata": {
        "id": "E7xsF0NFPi8d"
      }
    },
    {
      "cell_type": "code",
      "source": [
        "array = np.array([\n",
        "                [1, 2, 3, 4, 5],\n",
        "                [6, 7, 8, 9, 0],\n",
        "                [1, 2, 3, 4, 5],\n",
        "                [6, 7, 8, 9, 0],\n",
        "                ])\n",
        "\n",
        "print(array)"
      ],
      "metadata": {
        "id": "fJa0P9iGPNvq"
      },
      "execution_count": null,
      "outputs": []
    },
    {
      "cell_type": "code",
      "source": [
        "print(array[0][0])\n",
        "print(array[3][4])\n",
        "\n",
        "print(array[0, 0])\n",
        "print(array[3, 4])"
      ],
      "metadata": {
        "id": "Hhn-P2jnP3J5"
      },
      "execution_count": null,
      "outputs": []
    },
    {
      "cell_type": "code",
      "source": [
        "print(array[0])    # 0행만 출력"
      ],
      "metadata": {
        "id": "eUKOiCUyQHKg"
      },
      "execution_count": null,
      "outputs": []
    },
    {
      "cell_type": "code",
      "source": [
        "print(array[1:, 1:])"
      ],
      "metadata": {
        "id": "chz6NpgbQN3N"
      },
      "execution_count": null,
      "outputs": []
    },
    {
      "cell_type": "code",
      "source": [
        "# 1행 1열 ~ 3행 3열\n",
        "print(array[1:4, 1:3])"
      ],
      "metadata": {
        "id": "IHu9ttk7QYci"
      },
      "execution_count": null,
      "outputs": []
    },
    {
      "cell_type": "code",
      "source": [
        "# 슬라이싱 문제"
      ],
      "metadata": {
        "id": "8GaZb5RTRMtC"
      },
      "execution_count": 45,
      "outputs": []
    },
    {
      "cell_type": "code",
      "source": [
        "# 원소의 값 변경\n",
        "array[1, 1] = 10\n",
        "\n",
        "print(array)"
      ],
      "metadata": {
        "id": "i5O9vt3sRS0H"
      },
      "execution_count": null,
      "outputs": []
    },
    {
      "cell_type": "code",
      "source": [],
      "metadata": {
        "id": "kz1CdUq-Rfxa"
      },
      "execution_count": null,
      "outputs": []
    }
  ]
}